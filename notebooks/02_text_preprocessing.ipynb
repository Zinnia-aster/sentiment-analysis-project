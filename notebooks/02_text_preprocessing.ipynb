{
 "cells": [
  {
   "cell_type": "code",
   "execution_count": null,
   "metadata": {},
   "outputs": [],
   "source": [
    "import pandas as pd\n",
    "import re\n",
    "from sklearn.feature_extraction.text import TfidfVectorizer\n",
    "\n",
    "# Loading the cleaned dataset\n",
    "df = pd.read_csv(r\"C:\\Users\\priyadharshini\\Desktop\\Priyaa\\dataset\\cleaned_reviews.csv\", encoding=\"latin1\")\n",
    "\n",
    "# Preprocessing \n",
    "def clean_text(text):\n",
    "    text = text.lower()\n",
    "    text = re.sub(r'[^a-z\\s]', '', text)\n",
    "    return text\n",
    "\n",
    "# text cleaning\n",
    "df['Cleaned_Review'] = df['Cleaned_Review'].astype(str).apply(clean_text)\n",
    "\n",
    "# Converting text into numerical features\n",
    "vectorizer = TfidfVectorizer(max_features=5000)\n",
    "X = vectorizer.fit_transform(df['Cleaned_Review'])\n",
    "y = df['Sentiment']\n",
    "\n",
    "# Saving processed data\n",
    "import pickle\n",
    "with open(\"../Models/tfidf_vectorizer.pkl\", \"wb\") as f:\n",
    "\n",
    "    pickle.dump(vectorizer, f)"
   ]
  }
 ],
 "metadata": {
  "kernelspec": {
   "display_name": ".venv",
   "language": "python",
   "name": "python3"
  },
  "language_info": {
   "codemirror_mode": {
    "name": "ipython",
    "version": 3
   },
   "file_extension": ".py",
   "mimetype": "text/x-python",
   "name": "python",
   "nbconvert_exporter": "python",
   "pygments_lexer": "ipython3",
   "version": "3.11.5"
  }
 },
 "nbformat": 4,
 "nbformat_minor": 2
}
